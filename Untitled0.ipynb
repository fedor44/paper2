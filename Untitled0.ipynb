{
  "nbformat": 4,
  "nbformat_minor": 0,
  "metadata": {
    "colab": {
      "provenance": [],
      "authorship_tag": "ABX9TyO5o9BoxHH5ikwigxI6a/Ip",
      "include_colab_link": true
    },
    "kernelspec": {
      "name": "python3",
      "display_name": "Python 3"
    },
    "language_info": {
      "name": "python"
    },
    "accelerator": "TPU"
  },
  "cells": [
    {
      "cell_type": "markdown",
      "metadata": {
        "id": "view-in-github",
        "colab_type": "text"
      },
      "source": [
        "<a href=\"https://colab.research.google.com/github/fedor44/paper2/blob/main/Untitled0.ipynb\" target=\"_parent\"><img src=\"https://colab.research.google.com/assets/colab-badge.svg\" alt=\"Open In Colab\"/></a>"
      ]
    },
    {
      "cell_type": "code",
      "execution_count": null,
      "metadata": {
        "id": "RDqF3DEb-kOa"
      },
      "outputs": [],
      "source": [
        "import tensorflow as tf\n",
        "import os\n",
        "\n",
        "resolver = tf.distribute.cluster_resolver.TPUClusterResolver(tpu='grpc://' + os.environ['COLAB_TPU_ADDR'])\n",
        "\n",
        "tf.config.experimental_connect_to_cluster(resolver)\n",
        "tf.tpu.experimental.initialize_tpu_system(resolver)\n",
        "strategy = tf.distribute.TPUStrategy(resolver)"
      ]
    },
    {
      "cell_type": "code",
      "source": [
        "# 필요한 라이브러리 설치\n",
        "#!pip install datasets\n",
        "\n",
        "# transformers와 torch 임포트\n",
        "#from transformers import AutoTokenizer, AutoModelForSequenceClassification\n",
        "from transformers import BertTokenizer, BertForSequenceClassification\n",
        "import torch\n",
        "from datasets import load_dataset\n",
        "from sklearn.metrics import accuracy_score, precision_recall_fscore_support\n",
        "\n",
        "# Financial PhraseBank 데이터셋 로드\n",
        "#dataset = load_dataset('financial_phrasebank', 'sentences_allagree')\n",
        "dataset = load_dataset('financial_phrasebank', 'sentences_75agree')\n",
        "\n",
        "# 데이터셋 준비\n",
        "sentences = dataset['train']['sentence']\n",
        "labels = dataset['train']['label']\n",
        "\n",
        "# FinBERT 모델과 토크나이저 로드\n",
        "#model_name = \"ProsusAI/finbert\"  # FinBERT 모델\n",
        "#tokenizer = AutoTokenizer.from_pretrained(model_name)\n",
        "#model = AutoModelForSequenceClassification.from_pretrained(model_name)\n",
        "\n",
        "# 모델 및 토크나이저 로드\n",
        "tokenizer = BertTokenizer.from_pretrained('bert-base-uncased')\n",
        "model = BertForSequenceClassification.from_pretrained('bert-base-uncased', num_labels=3)\n",
        "\n",
        "# 뉴스 헤드라인을 토큰화하고 PyTorch 텐서로 변환하는 함수\n",
        "def encode_headlines(headlines, tokenizer):\n",
        "  encoded_batch = tokenizer.batch_encode_plus(headlines, padding=True, return_tensors='pt', truncation=True, max_length=512)\n",
        "  return encoded_batch\n",
        "\n",
        "# 감성 분석을 수행하는 함수\n",
        "def analyze_sentiment(headlines):\n",
        "  encoded_batch = encode_headlines(headlines, tokenizer)\n",
        "  with torch.no_grad():\n",
        "      outputs = model(**encoded_batch)\n",
        "      predictions = torch.nn.functional.softmax(outputs.logits, dim=-1)\n",
        "  return predictions\n",
        "\n",
        "\n",
        "# 예측 레이블과 실제 레이블을 저장할 리스트 초기화\n",
        "y_pred = []\n",
        "#y_true = [1, 2, 0, 0, 2]\n",
        "y_true = labels\n",
        "\n",
        "# 테스트 뉴스 헤드라인\n",
        "\"\"\"\n",
        "sentences = [\n",
        "    \"According to Gran , the company has no plans to move all production to Russia , although that is where the company is growing .\",\n",
        "    \"For the last quarter of 2010 , Componenta 's net sales doubled to EUR131m from EUR76m for the same period a year earlier , while it moved to a zero pre-tax profit from a pre-tax loss of EUR7m .\",\n",
        "    \"Sales in Finland decreased by 10.5 % in January , while sales outside Finland dropped by 17 % .\",\n",
        "    \"Operating profit fell to EUR 35.4 mn from EUR 68.8 mn in 2007 , including vessel sales gain of EUR 12.3 mn .\",\n",
        "    \"Both operating profit and turnover for the nine-month period increased , respectively from EUR2 .4 m and EUR43 .8 m , as compared to the corresponding period a year ago .\"\n",
        "]\n",
        "\"\"\"\n",
        "# financial_phrasebank =\n",
        "# 1(neutral), 2(positive), 0(negative), 0(negative), 2(positive)\n",
        "\n",
        "predictions = []\n",
        "for sentence in zip(sentences):\n",
        "  prediction = analyze_sentiment(sentence)\n",
        "\n",
        "  pred_label_index = torch.argmax(prediction).item()\n",
        "\n",
        "  if pred_label_index == 0:\n",
        "    y_pred.append(2)\n",
        "  elif pred_label_index == 1:\n",
        "    y_pred.append(0)\n",
        "  elif pred_label_index == 2:\n",
        "    y_pred.append(1)\n",
        "\n",
        "# 정밀도, 재현율, F1 점수 및 정확도 계산\n",
        "precision, recall, f1, _ = precision_recall_fscore_support(y_true, y_pred, average='weighted')\n",
        "accuracy = accuracy_score(y_true, y_pred)\n",
        "\n",
        "print(f\"Accuracy: {accuracy}\")\n",
        "print(f\"Precision: {precision}\")\n",
        "print(f\"Recall: {recall}\")\n",
        "print(f\"F1 Score: {f1}\")\n"
      ],
      "metadata": {
        "colab": {
          "base_uri": "https://localhost:8080/"
        },
        "id": "M5gtpRWv-m1c",
        "outputId": "39b96989-17ec-4268-818b-e53154eec2f9"
      },
      "execution_count": 17,
      "outputs": [
        {
          "output_type": "stream",
          "name": "stderr",
          "text": [
            "Some weights of BertForSequenceClassification were not initialized from the model checkpoint at bert-base-uncased and are newly initialized: ['classifier.bias', 'classifier.weight']\n",
            "You should probably TRAIN this model on a down-stream task to be able to use it for predictions and inference.\n"
          ]
        },
        {
          "output_type": "stream",
          "name": "stdout",
          "text": [
            "Accuracy: 0.5595134665508253\n",
            "Precision: 0.3835963360861001\n",
            "Recall: 0.5595134665508253\n",
            "F1 Score: 0.4547766203657632\n"
          ]
        }
      ]
    },
    {
      "cell_type": "code",
      "source": [
        "from sklearn.metrics import confusion_matrix\n",
        "import seaborn as sns\n",
        "import matplotlib.pyplot as plt\n",
        "\n",
        "# Compute confusion matrix\n",
        "cm = confusion_matrix(y_true, y_pred)\n",
        "\n",
        "# Plot confusion matrix\n",
        "plt.figure(figsize=(10, 7))\n",
        "sns.heatmap(cm, annot=True, fmt=\"d\", cmap=\"Blues\", xticklabels=['Negative', 'Neutral', 'Positive'], yticklabels=['Negative', 'Neutral', 'Positive'])\n",
        "plt.title('Confusion Matrix')\n",
        "plt.ylabel('Actual Label')\n",
        "plt.xlabel('Predicted Label')\n",
        "plt.show()"
      ],
      "metadata": {
        "colab": {
          "base_uri": "https://localhost:8080/",
          "height": 641
        },
        "id": "Qsj6O0ALU9vn",
        "outputId": "f734d3ec-fb37-4a45-c132-7b1031bf098b"
      },
      "execution_count": 21,
      "outputs": [
        {
          "output_type": "display_data",
          "data": {
            "text/plain": [
              "<Figure size 1000x700 with 2 Axes>"
            ],
            "image/png": "[encoded data removed]"
          },
          "metadata": {}
        }
      ]
    },
    {
      "cell_type": "code",
      "source": [
        "from datasets import load_dataset\n",
        "\n",
        "# Financial PhraseBank 데이터셋 로드\n",
        "dataset = load_dataset('financial_phrasebank', 'sentences_allagree')\n",
        "\n",
        "\n",
        "print(dataset['train']['sentence'][100])\n",
        "print(dataset['train']['label'][100])"
      ],
      "metadata": {
        "colab": {
          "base_uri": "https://localhost:8080/"
        },
        "id": "a7Fh0pKEFAke",
        "outputId": "9fbf55d1-4008-4c8d-8407-f88bf08f5c7f"
      },
      "execution_count": 19,
      "outputs": [
        {
          "output_type": "stream",
          "name": "stdout",
          "text": [
            "Both operating profit and turnover for the nine-month period increased , respectively from EUR2 .4 m and EUR43 .8 m , as compared to the corresponding period a year ago .\n",
            "2\n"
          ]
        }
      ]
    }
  ]
}